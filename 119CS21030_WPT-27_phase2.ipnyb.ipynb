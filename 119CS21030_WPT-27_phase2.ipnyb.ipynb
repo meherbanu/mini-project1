{
 "cells": [
  {
   "cell_type": "markdown",
   "id": "7a61d76e",
   "metadata": {},
   "source": [
    "# Phase-2"
   ]
  },
  {
   "cell_type": "markdown",
   "id": "8c40c67a",
   "metadata": {},
   "source": [
    "# Statistical Analysis"
   ]
  },
  {
   "cell_type": "markdown",
   "id": "95c9ac12",
   "metadata": {},
   "source": [
    "# Data Exploration and analysis for the stated problem and given dataset"
   ]
  },
  {
   "cell_type": "code",
   "execution_count": 2,
   "id": "cf20f04f",
   "metadata": {
    "scrolled": true
   },
   "outputs": [
    {
     "data": {
      "text/html": [
       "<div>\n",
       "<style scoped>\n",
       "    .dataframe tbody tr th:only-of-type {\n",
       "        vertical-align: middle;\n",
       "    }\n",
       "\n",
       "    .dataframe tbody tr th {\n",
       "        vertical-align: top;\n",
       "    }\n",
       "\n",
       "    .dataframe thead th {\n",
       "        text-align: right;\n",
       "    }\n",
       "</style>\n",
       "<table border=\"1\" class=\"dataframe\">\n",
       "  <thead>\n",
       "    <tr style=\"text-align: right;\">\n",
       "      <th></th>\n",
       "      <th>source_name</th>\n",
       "      <th>source_link</th>\n",
       "      <th>event_id</th>\n",
       "      <th>event_date</th>\n",
       "      <th>event_time</th>\n",
       "      <th>event_title</th>\n",
       "      <th>event_description</th>\n",
       "      <th>location_description</th>\n",
       "      <th>location_accuracy</th>\n",
       "      <th>landslide_category</th>\n",
       "      <th>...</th>\n",
       "      <th>country_code</th>\n",
       "      <th>admin_division_name</th>\n",
       "      <th>admin_division_population</th>\n",
       "      <th>gazeteer_closest_point</th>\n",
       "      <th>gazeteer_distance</th>\n",
       "      <th>submitted_date</th>\n",
       "      <th>created_date</th>\n",
       "      <th>last_edited_date</th>\n",
       "      <th>longitude</th>\n",
       "      <th>latitude</th>\n",
       "    </tr>\n",
       "  </thead>\n",
       "  <tbody>\n",
       "    <tr>\n",
       "      <th>0</th>\n",
       "      <td>AGU</td>\n",
       "      <td>https://blogs.agu.org/landslideblog/2008/10/14...</td>\n",
       "      <td>684</td>\n",
       "      <td>08/01/2008 12:00:00 AM</td>\n",
       "      <td>NaN</td>\n",
       "      <td>Sigou Village, Loufan County, Shanxi Province</td>\n",
       "      <td>occurred early in morning, 11 villagers buried...</td>\n",
       "      <td>Sigou Village, Loufan County, Shanxi Province</td>\n",
       "      <td>unknown</td>\n",
       "      <td>landslide</td>\n",
       "      <td>...</td>\n",
       "      <td>CN</td>\n",
       "      <td>Shaanxi</td>\n",
       "      <td>0.0</td>\n",
       "      <td>Jingyang</td>\n",
       "      <td>41.02145</td>\n",
       "      <td>04/01/2014 12:00:00 AM</td>\n",
       "      <td>11/20/2017 03:17:00 PM</td>\n",
       "      <td>02/15/2018 03:51:00 PM</td>\n",
       "      <td>107.450000</td>\n",
       "      <td>32.562500</td>\n",
       "    </tr>\n",
       "    <tr>\n",
       "      <th>1</th>\n",
       "      <td>Oregonian</td>\n",
       "      <td>http://www.oregonlive.com/news/index.ssf/2009/...</td>\n",
       "      <td>956</td>\n",
       "      <td>01/02/2009 02:00:00 AM</td>\n",
       "      <td>NaN</td>\n",
       "      <td>Lake Oswego, Oregon</td>\n",
       "      <td>Hours of heavy rain are to blame for an overni...</td>\n",
       "      <td>Lake Oswego, Oregon</td>\n",
       "      <td>5km</td>\n",
       "      <td>mudslide</td>\n",
       "      <td>...</td>\n",
       "      <td>US</td>\n",
       "      <td>Oregon</td>\n",
       "      <td>36619.0</td>\n",
       "      <td>Lake Oswego</td>\n",
       "      <td>0.60342</td>\n",
       "      <td>04/01/2014 12:00:00 AM</td>\n",
       "      <td>11/20/2017 03:17:00 PM</td>\n",
       "      <td>02/15/2018 03:51:00 PM</td>\n",
       "      <td>-122.663000</td>\n",
       "      <td>45.420000</td>\n",
       "    </tr>\n",
       "    <tr>\n",
       "      <th>2</th>\n",
       "      <td>CBS News</td>\n",
       "      <td>https://www.cbsnews.com/news/dozens-missing-af...</td>\n",
       "      <td>973</td>\n",
       "      <td>01/19/2007 12:00:00 AM</td>\n",
       "      <td>NaN</td>\n",
       "      <td>San Ramon district, 195 miles northeast of the...</td>\n",
       "      <td>(CBS/AP) At least 10 people died and as many a...</td>\n",
       "      <td>San Ramon district, 195 miles northeast of the...</td>\n",
       "      <td>10km</td>\n",
       "      <td>landslide</td>\n",
       "      <td>...</td>\n",
       "      <td>PE</td>\n",
       "      <td>Junín</td>\n",
       "      <td>14708.0</td>\n",
       "      <td>San Ramón</td>\n",
       "      <td>0.85548</td>\n",
       "      <td>04/01/2014 12:00:00 AM</td>\n",
       "      <td>11/20/2017 03:17:00 PM</td>\n",
       "      <td>02/15/2018 03:51:00 PM</td>\n",
       "      <td>-75.358700</td>\n",
       "      <td>-11.129500</td>\n",
       "    </tr>\n",
       "    <tr>\n",
       "      <th>3</th>\n",
       "      <td>Reuters</td>\n",
       "      <td>https://in.reuters.com/article/idINIndia-41450...</td>\n",
       "      <td>1067</td>\n",
       "      <td>07/31/2009 12:00:00 AM</td>\n",
       "      <td>NaN</td>\n",
       "      <td>Dailekh district</td>\n",
       "      <td>One person was killed in Dailekh district, pol...</td>\n",
       "      <td>Dailekh district</td>\n",
       "      <td>unknown</td>\n",
       "      <td>landslide</td>\n",
       "      <td>...</td>\n",
       "      <td>NP</td>\n",
       "      <td>Mid Western</td>\n",
       "      <td>20908.0</td>\n",
       "      <td>Dailekh</td>\n",
       "      <td>0.75395</td>\n",
       "      <td>04/01/2014 12:00:00 AM</td>\n",
       "      <td>11/20/2017 03:17:00 PM</td>\n",
       "      <td>02/15/2018 03:51:00 PM</td>\n",
       "      <td>81.708000</td>\n",
       "      <td>28.837800</td>\n",
       "    </tr>\n",
       "    <tr>\n",
       "      <th>4</th>\n",
       "      <td>The Freeman</td>\n",
       "      <td>http://www.philstar.com/cebu-news/621414/lands...</td>\n",
       "      <td>2603</td>\n",
       "      <td>10/16/2010 12:00:00 PM</td>\n",
       "      <td>NaN</td>\n",
       "      <td>sitio Bakilid in barangay Lahug</td>\n",
       "      <td>Another landslide in sitio Bakilid in barangay...</td>\n",
       "      <td>sitio Bakilid in barangay Lahug</td>\n",
       "      <td>5km</td>\n",
       "      <td>landslide</td>\n",
       "      <td>...</td>\n",
       "      <td>PH</td>\n",
       "      <td>Central Visayas</td>\n",
       "      <td>798634.0</td>\n",
       "      <td>Cebu City</td>\n",
       "      <td>2.02204</td>\n",
       "      <td>04/01/2014 12:00:00 AM</td>\n",
       "      <td>11/20/2017 03:17:00 PM</td>\n",
       "      <td>02/15/2018 03:51:00 PM</td>\n",
       "      <td>123.897800</td>\n",
       "      <td>10.333600</td>\n",
       "    </tr>\n",
       "    <tr>\n",
       "      <th>...</th>\n",
       "      <td>...</td>\n",
       "      <td>...</td>\n",
       "      <td>...</td>\n",
       "      <td>...</td>\n",
       "      <td>...</td>\n",
       "      <td>...</td>\n",
       "      <td>...</td>\n",
       "      <td>...</td>\n",
       "      <td>...</td>\n",
       "      <td>...</td>\n",
       "      <td>...</td>\n",
       "      <td>...</td>\n",
       "      <td>...</td>\n",
       "      <td>...</td>\n",
       "      <td>...</td>\n",
       "      <td>...</td>\n",
       "      <td>...</td>\n",
       "      <td>...</td>\n",
       "      <td>...</td>\n",
       "      <td>...</td>\n",
       "      <td>...</td>\n",
       "    </tr>\n",
       "    <tr>\n",
       "      <th>11028</th>\n",
       "      <td>The Jakarta Post</td>\n",
       "      <td>http://www.thejakartapost.com/news/2017/04/02/...</td>\n",
       "      <td>11109</td>\n",
       "      <td>04/01/2017 01:34:00 PM</td>\n",
       "      <td>NaN</td>\n",
       "      <td>Major landslide in Banaran</td>\n",
       "      <td>Landslide exacerbated by deforestation and bad...</td>\n",
       "      <td>Banaran, Ponorogo, Jawa Timur, Indonesia</td>\n",
       "      <td>5km</td>\n",
       "      <td>landslide</td>\n",
       "      <td>...</td>\n",
       "      <td>NaN</td>\n",
       "      <td>NaN</td>\n",
       "      <td>NaN</td>\n",
       "      <td>NaN</td>\n",
       "      <td>NaN</td>\n",
       "      <td>07/28/2017 01:34:00 PM</td>\n",
       "      <td>12/19/2017 09:42:00 PM</td>\n",
       "      <td>02/15/2018 03:51:00 PM</td>\n",
       "      <td>111.679944</td>\n",
       "      <td>-7.853409</td>\n",
       "    </tr>\n",
       "    <tr>\n",
       "      <th>11029</th>\n",
       "      <td>Greater Kashmir</td>\n",
       "      <td>http://www.greaterkashmir.com/news/jammu/lands...</td>\n",
       "      <td>10845</td>\n",
       "      <td>03/25/2017 05:32:00 PM</td>\n",
       "      <td>NaN</td>\n",
       "      <td>Barnari Sigdi Landslide</td>\n",
       "      <td>Two teenage girls died after they were buried ...</td>\n",
       "      <td>Barnari Sigdi area, Tehsil Mughalmaidan, Kisht...</td>\n",
       "      <td>5km</td>\n",
       "      <td>landslide</td>\n",
       "      <td>...</td>\n",
       "      <td>NaN</td>\n",
       "      <td>NaN</td>\n",
       "      <td>NaN</td>\n",
       "      <td>NaN</td>\n",
       "      <td>NaN</td>\n",
       "      <td>09/21/2017 05:32:00 PM</td>\n",
       "      <td>12/05/2017 06:45:00 PM</td>\n",
       "      <td>02/15/2018 03:51:00 PM</td>\n",
       "      <td>75.680611</td>\n",
       "      <td>33.403080</td>\n",
       "    </tr>\n",
       "    <tr>\n",
       "      <th>11030</th>\n",
       "      <td>NBC Daily</td>\n",
       "      <td>http://www.nbcdaily.com/separate-landslides-ki...</td>\n",
       "      <td>10973</td>\n",
       "      <td>12/15/2016 05:00:00 AM</td>\n",
       "      <td>NaN</td>\n",
       "      <td>Landslide at Pub Sarania Hill</td>\n",
       "      <td>An octogenarian was killed when a sudden lands...</td>\n",
       "      <td>Pub Sarania Hill, Guwahati, Assam, India</td>\n",
       "      <td>1km</td>\n",
       "      <td>landslide</td>\n",
       "      <td>...</td>\n",
       "      <td>NaN</td>\n",
       "      <td>NaN</td>\n",
       "      <td>NaN</td>\n",
       "      <td>NaN</td>\n",
       "      <td>NaN</td>\n",
       "      <td>07/26/2017 01:22:00 PM</td>\n",
       "      <td>12/08/2017 08:37:00 PM</td>\n",
       "      <td>02/15/2018 03:51:00 PM</td>\n",
       "      <td>91.772042</td>\n",
       "      <td>26.181606</td>\n",
       "    </tr>\n",
       "    <tr>\n",
       "      <th>11031</th>\n",
       "      <td>AGU Landslide Blog</td>\n",
       "      <td>http://blogs.agu.org/landslideblog/2017/05/02/...</td>\n",
       "      <td>10901</td>\n",
       "      <td>04/29/2017 07:03:00 PM</td>\n",
       "      <td>NaN</td>\n",
       "      <td>Mayor landslide at Ayu village</td>\n",
       "      <td>Landslide triggered by heavy rainfall buried 1...</td>\n",
       "      <td>Ayu, Ozgon, Osh, Kyrgyzstan</td>\n",
       "      <td>1km</td>\n",
       "      <td>translational_slide</td>\n",
       "      <td>...</td>\n",
       "      <td>NaN</td>\n",
       "      <td>NaN</td>\n",
       "      <td>NaN</td>\n",
       "      <td>NaN</td>\n",
       "      <td>NaN</td>\n",
       "      <td>07/14/2017 07:03:00 PM</td>\n",
       "      <td>12/07/2017 09:19:00 PM</td>\n",
       "      <td>02/15/2018 03:51:00 PM</td>\n",
       "      <td>73.472379</td>\n",
       "      <td>40.886395</td>\n",
       "    </tr>\n",
       "    <tr>\n",
       "      <th>11032</th>\n",
       "      <td>The Times of India</td>\n",
       "      <td>https://timesofindia.indiatimes.com/city/hyder...</td>\n",
       "      <td>10949</td>\n",
       "      <td>03/13/2017 02:32:00 PM</td>\n",
       "      <td>NaN</td>\n",
       "      <td>Kondapur Commercial Complex Construction Mudslide</td>\n",
       "      <td>A mudslide at an under-construction commercial...</td>\n",
       "      <td>Hyderabad, Rangareddy, Telangana</td>\n",
       "      <td>1km</td>\n",
       "      <td>mudslide</td>\n",
       "      <td>...</td>\n",
       "      <td>NaN</td>\n",
       "      <td>NaN</td>\n",
       "      <td>NaN</td>\n",
       "      <td>NaN</td>\n",
       "      <td>NaN</td>\n",
       "      <td>10/05/2017 02:32:00 PM</td>\n",
       "      <td>12/08/2017 07:57:00 PM</td>\n",
       "      <td>02/15/2018 03:51:00 PM</td>\n",
       "      <td>78.356505</td>\n",
       "      <td>17.465630</td>\n",
       "    </tr>\n",
       "  </tbody>\n",
       "</table>\n",
       "<p>11033 rows × 31 columns</p>\n",
       "</div>"
      ],
      "text/plain": [
       "              source_name                                        source_link  \\\n",
       "0                     AGU  https://blogs.agu.org/landslideblog/2008/10/14...   \n",
       "1               Oregonian  http://www.oregonlive.com/news/index.ssf/2009/...   \n",
       "2                CBS News  https://www.cbsnews.com/news/dozens-missing-af...   \n",
       "3                 Reuters  https://in.reuters.com/article/idINIndia-41450...   \n",
       "4             The Freeman  http://www.philstar.com/cebu-news/621414/lands...   \n",
       "...                   ...                                                ...   \n",
       "11028    The Jakarta Post  http://www.thejakartapost.com/news/2017/04/02/...   \n",
       "11029     Greater Kashmir  http://www.greaterkashmir.com/news/jammu/lands...   \n",
       "11030           NBC Daily  http://www.nbcdaily.com/separate-landslides-ki...   \n",
       "11031  AGU Landslide Blog  http://blogs.agu.org/landslideblog/2017/05/02/...   \n",
       "11032  The Times of India  https://timesofindia.indiatimes.com/city/hyder...   \n",
       "\n",
       "       event_id              event_date  event_time  \\\n",
       "0           684  08/01/2008 12:00:00 AM         NaN   \n",
       "1           956  01/02/2009 02:00:00 AM         NaN   \n",
       "2           973  01/19/2007 12:00:00 AM         NaN   \n",
       "3          1067  07/31/2009 12:00:00 AM         NaN   \n",
       "4          2603  10/16/2010 12:00:00 PM         NaN   \n",
       "...         ...                     ...         ...   \n",
       "11028     11109  04/01/2017 01:34:00 PM         NaN   \n",
       "11029     10845  03/25/2017 05:32:00 PM         NaN   \n",
       "11030     10973  12/15/2016 05:00:00 AM         NaN   \n",
       "11031     10901  04/29/2017 07:03:00 PM         NaN   \n",
       "11032     10949  03/13/2017 02:32:00 PM         NaN   \n",
       "\n",
       "                                             event_title  \\\n",
       "0          Sigou Village, Loufan County, Shanxi Province   \n",
       "1                                    Lake Oswego, Oregon   \n",
       "2      San Ramon district, 195 miles northeast of the...   \n",
       "3                                       Dailekh district   \n",
       "4                        sitio Bakilid in barangay Lahug   \n",
       "...                                                  ...   \n",
       "11028                         Major landslide in Banaran   \n",
       "11029                            Barnari Sigdi Landslide   \n",
       "11030                      Landslide at Pub Sarania Hill   \n",
       "11031                     Mayor landslide at Ayu village   \n",
       "11032  Kondapur Commercial Complex Construction Mudslide   \n",
       "\n",
       "                                       event_description  \\\n",
       "0      occurred early in morning, 11 villagers buried...   \n",
       "1      Hours of heavy rain are to blame for an overni...   \n",
       "2      (CBS/AP) At least 10 people died and as many a...   \n",
       "3      One person was killed in Dailekh district, pol...   \n",
       "4      Another landslide in sitio Bakilid in barangay...   \n",
       "...                                                  ...   \n",
       "11028  Landslide exacerbated by deforestation and bad...   \n",
       "11029  Two teenage girls died after they were buried ...   \n",
       "11030  An octogenarian was killed when a sudden lands...   \n",
       "11031  Landslide triggered by heavy rainfall buried 1...   \n",
       "11032  A mudslide at an under-construction commercial...   \n",
       "\n",
       "                                    location_description location_accuracy  \\\n",
       "0          Sigou Village, Loufan County, Shanxi Province           unknown   \n",
       "1                                    Lake Oswego, Oregon               5km   \n",
       "2      San Ramon district, 195 miles northeast of the...              10km   \n",
       "3                                       Dailekh district           unknown   \n",
       "4                        sitio Bakilid in barangay Lahug               5km   \n",
       "...                                                  ...               ...   \n",
       "11028           Banaran, Ponorogo, Jawa Timur, Indonesia               5km   \n",
       "11029  Barnari Sigdi area, Tehsil Mughalmaidan, Kisht...               5km   \n",
       "11030           Pub Sarania Hill, Guwahati, Assam, India               1km   \n",
       "11031                        Ayu, Ozgon, Osh, Kyrgyzstan               1km   \n",
       "11032                   Hyderabad, Rangareddy, Telangana               1km   \n",
       "\n",
       "        landslide_category  ... country_code admin_division_name  \\\n",
       "0                landslide  ...           CN             Shaanxi   \n",
       "1                 mudslide  ...           US              Oregon   \n",
       "2                landslide  ...           PE               Junín   \n",
       "3                landslide  ...           NP         Mid Western   \n",
       "4                landslide  ...           PH     Central Visayas   \n",
       "...                    ...  ...          ...                 ...   \n",
       "11028            landslide  ...          NaN                 NaN   \n",
       "11029            landslide  ...          NaN                 NaN   \n",
       "11030            landslide  ...          NaN                 NaN   \n",
       "11031  translational_slide  ...          NaN                 NaN   \n",
       "11032             mudslide  ...          NaN                 NaN   \n",
       "\n",
       "      admin_division_population  gazeteer_closest_point  gazeteer_distance  \\\n",
       "0                           0.0                Jingyang           41.02145   \n",
       "1                       36619.0             Lake Oswego            0.60342   \n",
       "2                       14708.0               San Ramón            0.85548   \n",
       "3                       20908.0                 Dailekh            0.75395   \n",
       "4                      798634.0               Cebu City            2.02204   \n",
       "...                         ...                     ...                ...   \n",
       "11028                       NaN                     NaN                NaN   \n",
       "11029                       NaN                     NaN                NaN   \n",
       "11030                       NaN                     NaN                NaN   \n",
       "11031                       NaN                     NaN                NaN   \n",
       "11032                       NaN                     NaN                NaN   \n",
       "\n",
       "               submitted_date            created_date        last_edited_date  \\\n",
       "0      04/01/2014 12:00:00 AM  11/20/2017 03:17:00 PM  02/15/2018 03:51:00 PM   \n",
       "1      04/01/2014 12:00:00 AM  11/20/2017 03:17:00 PM  02/15/2018 03:51:00 PM   \n",
       "2      04/01/2014 12:00:00 AM  11/20/2017 03:17:00 PM  02/15/2018 03:51:00 PM   \n",
       "3      04/01/2014 12:00:00 AM  11/20/2017 03:17:00 PM  02/15/2018 03:51:00 PM   \n",
       "4      04/01/2014 12:00:00 AM  11/20/2017 03:17:00 PM  02/15/2018 03:51:00 PM   \n",
       "...                       ...                     ...                     ...   \n",
       "11028  07/28/2017 01:34:00 PM  12/19/2017 09:42:00 PM  02/15/2018 03:51:00 PM   \n",
       "11029  09/21/2017 05:32:00 PM  12/05/2017 06:45:00 PM  02/15/2018 03:51:00 PM   \n",
       "11030  07/26/2017 01:22:00 PM  12/08/2017 08:37:00 PM  02/15/2018 03:51:00 PM   \n",
       "11031  07/14/2017 07:03:00 PM  12/07/2017 09:19:00 PM  02/15/2018 03:51:00 PM   \n",
       "11032  10/05/2017 02:32:00 PM  12/08/2017 07:57:00 PM  02/15/2018 03:51:00 PM   \n",
       "\n",
       "        longitude   latitude  \n",
       "0      107.450000  32.562500  \n",
       "1     -122.663000  45.420000  \n",
       "2      -75.358700 -11.129500  \n",
       "3       81.708000  28.837800  \n",
       "4      123.897800  10.333600  \n",
       "...           ...        ...  \n",
       "11028  111.679944  -7.853409  \n",
       "11029   75.680611  33.403080  \n",
       "11030   91.772042  26.181606  \n",
       "11031   73.472379  40.886395  \n",
       "11032   78.356505  17.465630  \n",
       "\n",
       "[11033 rows x 31 columns]"
      ]
     },
     "execution_count": 2,
     "metadata": {},
     "output_type": "execute_result"
    }
   ],
   "source": [
    "import pandas as pd\n",
    "df=pd.read_csv(\"C:/Users/meher/Downloads/archive (7)/Global_Landslide_Catalog_Export.csv\")\n",
    "df"
   ]
  },
  {
   "cell_type": "markdown",
   "id": "4a44e3a9",
   "metadata": {},
   "source": [
    "# 1.frame 10 questions on probability and statistics"
   ]
  },
  {
   "cell_type": "markdown",
   "id": "3c89da13",
   "metadata": {},
   "source": [
    "1.find the mean value of the column \"latitude\"\n"
   ]
  },
  {
   "cell_type": "markdown",
   "id": "198efb62",
   "metadata": {},
   "source": [
    "mean(): calculates the arithmetic mean or average value of sample data in sequence or iterator.\n"
   ]
  },
  {
   "cell_type": "code",
   "execution_count": 17,
   "id": "26ececf2",
   "metadata": {},
   "outputs": [
    {
     "data": {
      "text/plain": [
       "25.881887027632285"
      ]
     },
     "execution_count": 17,
     "metadata": {},
     "output_type": "execute_result"
    }
   ],
   "source": [
    "df['latitude'].mean()"
   ]
  },
  {
   "cell_type": "markdown",
   "id": "b76291b0",
   "metadata": {},
   "source": [
    "2.find the standard deviation of column \"gazeteer_distance\""
   ]
  },
  {
   "cell_type": "markdown",
   "id": "634fef83",
   "metadata": {},
   "source": [
    "standard deviation(): calculates the standard deviation"
   ]
  },
  {
   "cell_type": "code",
   "execution_count": 18,
   "id": "52316ded",
   "metadata": {},
   "outputs": [
    {
     "data": {
      "text/plain": [
       "15.598228448446879"
      ]
     },
     "execution_count": 18,
     "metadata": {},
     "output_type": "execute_result"
    }
   ],
   "source": [
    "df['gazeteer_distance'].std()"
   ]
  },
  {
   "cell_type": "markdown",
   "id": "7e8859e7",
   "metadata": {},
   "source": [
    "3.find the max value of the column \"longitude\""
   ]
  },
  {
   "cell_type": "markdown",
   "id": "b1f15768",
   "metadata": {},
   "source": [
    "max(): returns the maximum value.\n"
   ]
  },
  {
   "cell_type": "code",
   "execution_count": 20,
   "id": "1d7dc81a",
   "metadata": {},
   "outputs": [
    {
     "data": {
      "text/plain": [
       "179.991364"
      ]
     },
     "execution_count": 20,
     "metadata": {},
     "output_type": "execute_result"
    }
   ],
   "source": [
    "df[\"longitude\"].max()"
   ]
  },
  {
   "cell_type": "markdown",
   "id": "4a4bc639",
   "metadata": {},
   "source": [
    "4.find the median value of column \"admin_division_population\""
   ]
  },
  {
   "cell_type": "markdown",
   "id": "8e4c3a7c",
   "metadata": {},
   "source": [
    "median(): calculates the median value"
   ]
  },
  {
   "cell_type": "code",
   "execution_count": 21,
   "id": "b84c23a5",
   "metadata": {},
   "outputs": [
    {
     "data": {
      "text/plain": [
       "7365.0"
      ]
     },
     "execution_count": 21,
     "metadata": {},
     "output_type": "execute_result"
    }
   ],
   "source": [
    "df['admin_division_population'].median()"
   ]
  },
  {
   "cell_type": "markdown",
   "id": "03de65b7",
   "metadata": {},
   "source": [
    "5.find the min value of column \"event_id\""
   ]
  },
  {
   "cell_type": "markdown",
   "id": "24534749",
   "metadata": {},
   "source": [
    "min(): returns the minimum value.\n"
   ]
  },
  {
   "cell_type": "code",
   "execution_count": 22,
   "id": "21e97795",
   "metadata": {},
   "outputs": [
    {
     "data": {
      "text/plain": [
       "1"
      ]
     },
     "execution_count": 22,
     "metadata": {},
     "output_type": "execute_result"
    }
   ],
   "source": [
    "df['event_id'].min()"
   ]
  },
  {
   "cell_type": "markdown",
   "id": "5bd5f376",
   "metadata": {},
   "source": [
    "6.get the frequency of the column \"event_time\""
   ]
  },
  {
   "cell_type": "markdown",
   "id": "66bb7367",
   "metadata": {},
   "source": [
    "count(): calculates the count or frequency of non-null values.\n"
   ]
  },
  {
   "cell_type": "code",
   "execution_count": 24,
   "id": "899dfe5a",
   "metadata": {},
   "outputs": [
    {
     "data": {
      "text/plain": [
       "0"
      ]
     },
     "execution_count": 24,
     "metadata": {},
     "output_type": "execute_result"
    }
   ],
   "source": [
    "df['event_time'].count()"
   ]
  },
  {
   "cell_type": "markdown",
   "id": "bff2f59b",
   "metadata": {},
   "source": [
    "7.find the mode of the column 'admin_division_population'"
   ]
  },
  {
   "cell_type": "markdown",
   "id": "254479d1",
   "metadata": {},
   "source": [
    "mode(): calculates the mode or most frequent value."
   ]
  },
  {
   "cell_type": "code",
   "execution_count": 25,
   "id": "87a1e60e",
   "metadata": {},
   "outputs": [
    {
     "data": {
      "text/plain": [
       "0    0.0\n",
       "Name: admin_division_population, dtype: float64"
      ]
     },
     "execution_count": 25,
     "metadata": {},
     "output_type": "execute_result"
    }
   ],
   "source": [
    "df['admin_division_population'].mode()"
   ]
  },
  {
   "cell_type": "markdown",
   "id": "db22314c",
   "metadata": {},
   "source": [
    "8.find the sum of the total column \"latitude\""
   ]
  },
  {
   "cell_type": "code",
   "execution_count": 3,
   "id": "81591870",
   "metadata": {},
   "outputs": [
    {
     "data": {
      "text/plain": [
       "285554.859575867"
      ]
     },
     "execution_count": 3,
     "metadata": {},
     "output_type": "execute_result"
    }
   ],
   "source": [
    "df['latitude'].sum()"
   ]
  },
  {
   "cell_type": "markdown",
   "id": "fb08e566",
   "metadata": {},
   "source": [
    "9.find the probabilty of landslides using binomial probabilty"
   ]
  },
  {
   "cell_type": "code",
   "execution_count": 29,
   "id": "224b05b1",
   "metadata": {},
   "outputs": [
    {
     "name": "stdout",
     "output_type": "stream",
     "text": [
      "Probability of getting exactly 3 heads: 0.3125\n"
     ]
    }
   ],
   "source": [
    "from scipy.stats import binom\n",
    "n = 5  # Number of landslides\n",
    "p = 0.5  # Probability of getting lanslides (e.g., heads)\n",
    "k = 3  # Number of not occuring landslides \n",
    "\n",
    "probability = binom.pmf(k, n, p)\n",
    "print(f\"Probability of getting exactly {k} heads: {probability:.4f}\")\n"
   ]
  },
  {
   "cell_type": "markdown",
   "id": "30cf409a",
   "metadata": {},
   "source": [
    "10.find the probability using normal distribution probabilty"
   ]
  },
  {
   "cell_type": "code",
   "execution_count": 31,
   "id": "f9ce5a25",
   "metadata": {},
   "outputs": [
    {
     "name": "stdout",
     "output_type": "stream",
     "text": [
      "Probability of z-score between -1 and 1: 0.0000\n"
     ]
    }
   ],
   "source": [
    "from scipy.stats import norm\n",
    "mu = 7365.0 # Mean\n",
    "sigma =15.598228448446879 # Standard deviation\n",
    "lower_bound = -1\n",
    "upper_bound = 1\n",
    "probability = norm.cdf(upper_bound, loc=mu, scale=sigma) - norm.cdf(lower_bound, loc=mu, scale=sigma)\n",
    "print(f\"Probability of z-score between {lower_bound} and {upper_bound}: {probability:.4f}\")\n"
   ]
  },
  {
   "cell_type": "markdown",
   "id": "ab590cb6",
   "metadata": {},
   "source": [
    "# 2.dispersion for the parameters"
   ]
  },
  {
   "cell_type": "code",
   "execution_count": 5,
   "id": "9d7335fd",
   "metadata": {},
   "outputs": [
    {
     "name": "stdout",
     "output_type": "stream",
     "text": [
      "Variance: 50.0\n",
      "Standard Deviation: 7.0710678118654755\n"
     ]
    }
   ],
   "source": [
    "import numpy as np\n",
    "df = [10,15,20,25,30]\n",
    "# Variance\n",
    "variance = np.var(df)\n",
    "# Standard Deviation\n",
    "std_deviation = np.std(df)\n",
    "print(\"Variance:\", variance)\n",
    "print(\"Standard Deviation:\", std_deviation)\n"
   ]
  },
  {
   "cell_type": "markdown",
   "id": "37554a85",
   "metadata": {},
   "source": [
    "# 3.Data Distribution"
   ]
  },
  {
   "cell_type": "markdown",
   "id": "e60700b4",
   "metadata": {},
   "source": [
    "using normal distribution"
   ]
  },
  {
   "cell_type": "code",
   "execution_count": 7,
   "id": "588a5245",
   "metadata": {},
   "outputs": [
    {
     "data": {
      "image/png": "[encoded data removed]",
      "text/plain": [
       "<Figure size 640x480 with 1 Axes>"
      ]
     },
     "metadata": {},
     "output_type": "display_data"
    }
   ],
   "source": [
    "import matplotlib.pyplot as plt\n",
    "# Set the parameters of the normal distribution\n",
    "mean = 7365.0\n",
    "std_dev=15.598228448446879\n",
    "num_samples = 1000\n",
    "# Generate  data following a normal distribution\n",
    "df = np.random.normal(mean, std_dev, num_samples)\n",
    "# Create a histogram to visualize the distribution\n",
    "plt.hist(df, bins=30, density=True, alpha=0.6, color='b')\n",
    "# Plot the probability density function (PDF) of the normal distribution for comparison\n",
    "xmin, xmax = plt.xlim()\n",
    "x = np.linspace(xmin, xmax, 100)\n",
    "p = (1 / (std_dev * np.sqrt(2 * np.pi))) * np.exp(-0.5 * ((x - mean) / std_dev) ** 2)\n",
    "plt.plot(x, p, 'k', linewidth=2)\n",
    "plt.xlabel('Value')\n",
    "plt.ylabel('Frequency')\n",
    "plt.title('Histogram of a Normal Distribution')\n",
    "plt.show()\n"
   ]
  },
  {
   "cell_type": "markdown",
   "id": "0171f88b",
   "metadata": {},
   "source": [
    "# 4. Visualize above with distribution , histogram and scatter plots"
   ]
  },
  {
   "cell_type": "code",
   "execution_count": 10,
   "id": "40ebd270",
   "metadata": {},
   "outputs": [
    {
     "data": {
      "image/png": "[encoded data removed]",
      "text/plain": [
       "<Figure size 640x480 with 1 Axes>"
      ]
     },
     "metadata": {},
     "output_type": "display_data"
    }
   ],
   "source": [
    "import matplotlib.pyplot as plt\n",
    "df = ['longitude']\n",
    "# Create a histogram\n",
    "plt.hist(df, bins=5, edgecolor='k')  \n",
    "plt.xlabel('Data Values')\n",
    "plt.ylabel('Frequency')\n",
    "plt.title('Histogram of Data')\n",
    "plt.grid(True)  \n",
    "plt.show()\n"
   ]
  },
  {
   "cell_type": "code",
   "execution_count": 12,
   "id": "65616fb1",
   "metadata": {},
   "outputs": [
    {
     "data": {
      "image/png": "[encoded data removed]",
      "text/plain": [
       "<Figure size 640x480 with 1 Axes>"
      ]
     },
     "metadata": {},
     "output_type": "display_data"
    }
   ],
   "source": [
    "x = ['longitude']\n",
    "y = ['latitude']\n",
    "plt.scatter(x, y, label='Data Points', color='blue', marker='o')\n",
    "plt.xlabel('X-Axis Label')\n",
    "plt.ylabel('Y-Axis Label')\n",
    "plt.title('Scatter Plot of Dataset')\n",
    "plt.legend()\n",
    "plt.show()\n"
   ]
  },
  {
   "cell_type": "markdown",
   "id": "dd9d334d",
   "metadata": {},
   "source": [
    "# 5.Test statistics"
   ]
  },
  {
   "cell_type": "markdown",
   "id": "2a91a4e8",
   "metadata": {},
   "source": [
    "Test statistics are used to assess the strength of evidence against the null hypothesis. They help determine whether the observed data is consistent with the null hypothesis or if there is a significant difference or relationship.Test statistics are fundamental in hypothesis testing and are used in various fields, including statistics, scientific research, economics, and many others, to draw conclusions about populations based on sample data"
   ]
  },
  {
   "cell_type": "markdown",
   "id": "5dfd09b3",
   "metadata": {},
   "source": [
    "# 6.Test type(T-test,Z-test,F-test,ANNOVA,Chi-square,PCA)"
   ]
  },
  {
   "cell_type": "markdown",
   "id": "dac174a6",
   "metadata": {},
   "source": [
    "A t-test is a statistical test used to determine if there is a significant difference between the means of two groups or to compare the mean of a sample to a known population mean"
   ]
  },
  {
   "cell_type": "code",
   "execution_count": 20,
   "id": "2153d0dc",
   "metadata": {},
   "outputs": [
    {
     "name": "stdout",
     "output_type": "stream",
     "text": [
      "T-Statistic: -5.0\n",
      "P-Value: 0.001052825793366539\n",
      "Reject the null hypothesis: There is a significant difference.\n"
     ]
    }
   ],
   "source": [
    "group1 = [10, 15, 20, 25, 30]\n",
    "group2 = [35, 40, 45, 50, 55]\n",
    "\n",
    "# Perform a two-sample t-test\n",
    "t_stat, p_value = stats.ttest_ind(group1, group2)\n",
    "\n",
    "print(\"T-Statistic:\", t_stat)\n",
    "print(\"P-Value:\", p_value)\n",
    "\n",
    "# Determine significance based on p-value\n",
    "alpha = 0.05  # Significance level\n",
    "if p_value < alpha:\n",
    "    print(\"Reject the null hypothesis: There is a significant difference.\")\n",
    "else:\n",
    "    print(\"Fail to reject the null hypothesis: There is no significant difference.\")\n"
   ]
  },
  {
   "cell_type": "markdown",
   "id": "d34bb9ef",
   "metadata": {},
   "source": [
    "\n",
    "A Z-test is a statistical test used to determine if there is a significant difference between a sample mean and a known population mean, assuming that the population follows a normal distribution. It is similar to a t-test but is typically used when the sample size is large, and you know the population standard deviation"
   ]
  },
  {
   "cell_type": "code",
   "execution_count": 21,
   "id": "1ec22d2f",
   "metadata": {},
   "outputs": [
    {
     "name": "stdout",
     "output_type": "stream",
     "text": [
      "Z-Statistic: 0.8838834764831844\n",
      "P-Value: 0.3767591178115821\n",
      "Fail to reject the null hypothesis: There is no significant difference.\n"
     ]
    }
   ],
   "source": [
    "df = [10, 15, 20, 25, 30, 35, 40, 45]\n",
    "\n",
    "# Population parameters (mean and standard deviation)\n",
    "population_mean = 25  # Replace with the known population mean\n",
    "population_stddev = 8  # Replace with the known population standard deviation\n",
    "\n",
    "# Calculate the sample statistics\n",
    "sample_mean = np.mean(df)\n",
    "sample_size = len(df)\n",
    "\n",
    "# Perform a one-sample Z-test\n",
    "z_stat = (sample_mean - population_mean) / (population_stddev / np.sqrt(sample_size))\n",
    "\n",
    "# Calculate the p-value\n",
    "p_value = 2 * (1 - stats.norm.cdf(abs(z_stat)))  # Two-tailed test\n",
    "\n",
    "print(\"Z-Statistic:\", z_stat)\n",
    "print(\"P-Value:\", p_value)\n",
    "\n",
    "# Determine significance based on p-value\n",
    "alpha = 0.05  # Significance level\n",
    "if p_value < alpha:\n",
    "    print(\"Reject the null hypothesis: There is a significant difference.\")\n",
    "else:\n",
    "    print(\"Fail to reject the null hypothesis: There is no significant difference.\")\n"
   ]
  },
  {
   "cell_type": "markdown",
   "id": "3db89b60",
   "metadata": {},
   "source": [
    "\n",
    "An F-test is a statistical test used to compare the variances of two or more groups or to test the overall variance in a dataset. In Python, you can perform an F-test using th"
   ]
  },
  {
   "cell_type": "code",
   "execution_count": 22,
   "id": "c537a661",
   "metadata": {},
   "outputs": [
    {
     "name": "stdout",
     "output_type": "stream",
     "text": [
      "F-Statistic: 1.0\n",
      "P-Value: 0.5\n",
      "Fail to reject the null hypothesis: Variances are not significantly different.\n"
     ]
    }
   ],
   "source": [
    "group1 = [10, 15, 20, 25, 30]\n",
    "group2 = [35, 40, 45, 50, 55]\n",
    "\n",
    "# Perform a two-sample F-test\n",
    "f_stat = np.var(group1, ddof=1) / np.var(group2, ddof=1)\n",
    "\n",
    "# Degrees of freedom\n",
    "df1 = len(group1) - 1\n",
    "df2 = len(group2) - 1\n",
    "\n",
    "# Calculate the p-value\n",
    "p_value = 1 - stats.f.cdf(f_stat, df1, df2)\n",
    "\n",
    "print(\"F-Statistic:\", f_stat)\n",
    "print(\"P-Value:\", p_value)\n",
    "\n",
    "# Determine significance based on p-value\n",
    "alpha = 0.05  # Significance level\n",
    "if p_value < alpha:\n",
    "    print(\"Reject the null hypothesis: Variances are significantly different.\")\n",
    "else:\n",
    "    print(\"Fail to reject the null hypothesis: Variances are not significantly different.\")\n"
   ]
  },
  {
   "cell_type": "markdown",
   "id": "12ea7aad",
   "metadata": {},
   "source": [
    "ANOVA is used to compare the means of multiple groups or categories to determine if there are statistically significant differences among them"
   ]
  },
  {
   "cell_type": "code",
   "execution_count": 24,
   "id": "7ac6a70f",
   "metadata": {},
   "outputs": [
    {
     "name": "stdout",
     "output_type": "stream",
     "text": [
      "F-Statistic: 50.0\n",
      "P-Value: 1.5127924217375409e-06\n",
      "Reject the null hypothesis: At least one group has a significantly different mean.\n"
     ]
    }
   ],
   "source": [
    "group1 = [10, 15, 20, 25, 30]\n",
    "group2 = [35, 40, 45, 50, 55]\n",
    "group3 = [60, 65, 70, 75, 80]\n",
    "\n",
    "# Combine the data into a list of lists\n",
    "df = [group1, group2, group3]\n",
    "\n",
    "# Perform a one-way ANOVA\n",
    "f_stat, p_value = stats.f_oneway(*df)\n",
    "\n",
    "print(\"F-Statistic:\", f_stat)\n",
    "print(\"P-Value:\", p_value)\n",
    "\n",
    "# Determine significance based on p-value\n",
    "alpha = 0.05  # Significance level\n",
    "if p_value < alpha:\n",
    "    print(\"Reject the null hypothesis: At least one group has a significantly different mean.\")\n",
    "else:\n",
    "    print(\"Fail to reject the null hypothesis: Means are not significantly different among groups.\")\n"
   ]
  },
  {
   "cell_type": "markdown",
   "id": "b28b7698",
   "metadata": {},
   "source": [
    "Chi-square tests are used to determine if there is an association between two categorical variables in a contingency table. Here's how to perform a chi-square test on a dataset:"
   ]
  },
  {
   "cell_type": "code",
   "execution_count": 25,
   "id": "c70e39d7",
   "metadata": {},
   "outputs": [
    {
     "name": "stdout",
     "output_type": "stream",
     "text": [
      "Chi-Square Statistic: 0.011666666666666653\n",
      "P-Value: 0.9139858996305869\n",
      "Degrees of Freedom: 1\n",
      "Fail to reject the null hypothesis: No association between the variables.\n"
     ]
    }
   ],
   "source": [
    "observed = [[10, 15], [20, 25]]\n",
    "\n",
    "# Perform a chi-square test of independence\n",
    "chi2, p, dof, expected = stats.chi2_contingency(observed)\n",
    "\n",
    "print(\"Chi-Square Statistic:\", chi2)\n",
    "print(\"P-Value:\", p)\n",
    "print(\"Degrees of Freedom:\", dof)\n",
    "\n",
    "# Determine significance based on p-value\n",
    "alpha = 0.05  # Significance level\n",
    "if p < alpha:\n",
    "    print(\"Reject the null hypothesis: There is an association between the variables.\")\n",
    "else:\n",
    "    print(\"Fail to reject the null hypothesis: No association between the variables.\")\n"
   ]
  },
  {
   "cell_type": "markdown",
   "id": "94e33f14",
   "metadata": {},
   "source": [
    "\n",
    "Principal Component Analysis (PCA) is a dimensionality reduction technique commonly used in data analysis and machine learning to reduce the number of features (variables) while preserving as much variance in the data as possible. PCA identifies a new set of orthogonal axes, known as principal components, and projects the data onto these components."
   ]
  },
  {
   "cell_type": "code",
   "execution_count": 26,
   "id": "da7ddf22",
   "metadata": {},
   "outputs": [
    {
     "name": "stdout",
     "output_type": "stream",
     "text": [
      "Explained Variance Ratios: [1.00000000e+00 1.23259516e-32 4.30465738e-64]\n"
     ]
    },
    {
     "data": {
      "image/png": "[encoded data removed]",
      "text/plain": [
       "<Figure size 640x480 with 1 Axes>"
      ]
     },
     "metadata": {},
     "output_type": "display_data"
    }
   ],
   "source": [
    "import numpy as np\n",
    "from sklearn.decomposition import PCA\n",
    "from sklearn.preprocessing import StandardScaler\n",
    "import matplotlib.pyplot as plt\n",
    "\n",
    "# Sample dataset (you should replace this with your own dataset)\n",
    "data = np.array([[1, 2, 3],\n",
    "                 [4, 5, 6],\n",
    "                 [7, 8, 9],\n",
    "                 [10, 11, 12]])\n",
    "\n",
    "# Standardize the data (mean=0, variance=1)\n",
    "scaler = StandardScaler()\n",
    "data_standardized = scaler.fit_transform(data)\n",
    "\n",
    "# Create a PCA instance\n",
    "pca = PCA()\n",
    "\n",
    "# Fit the PCA model to the data\n",
    "pca.fit(data_standardized)\n",
    "\n",
    "# Get the explained variance ratios\n",
    "explained_variance = pca.explained_variance_ratio_\n",
    "\n",
    "# Print the explained variance ratios\n",
    "print(\"Explained Variance Ratios:\", explained_variance)\n",
    "\n",
    "# Plot the explained variance ratios\n",
    "plt.bar(range(1, len(explained_variance) + 1), explained_variance)\n",
    "plt.xlabel('Principal Component')\n",
    "plt.ylabel('Explained Variance Ratio')\n",
    "plt.title('Explained Variance Ratios')\n",
    "plt.show()\n"
   ]
  },
  {
   "cell_type": "markdown",
   "id": "722fac81",
   "metadata": {},
   "source": [
    "# 7.Interpreting test statistics"
   ]
  },
  {
   "cell_type": "markdown",
   "id": "52e2f3bc",
   "metadata": {},
   "source": [
    "Interpreting test statistics depends on the context of the statistical test being conducted and the specific test statistic used. However, there are some common principles that apply to many statistical tests. Here's a general guideline for interpreting test statistics:\n",
    "\n",
    "Observe the Test Statistic Value: Look at the actual value of the test statistic that was calculated during the test. This value summarizes the difference or effect that you are testing.\n",
    "\n",
    "Compare to Critical Values or Reference Distributions: Most statistical tests involve comparing the test statistic to critical values or reference distributions. The specific reference distribution depends on the test you are conducting (e.g., t-distribution, F-distribution, chi-squared distribution, normal distribution).\n",
    "\n",
    "If it's a two-tailed test, you are interested in whether the test statistic is significantly different from zero. In this case, compare the absolute value of the test statistic to the critical values or the critical region of the distribution.\n",
    "If it's a one-tailed test, you are interested in whether the test statistic is significantly greater or smaller than a specific value. Determine which tail of the distribution corresponds to your hypothesis, and compare the test statistic to the critical value on that side.\n",
    "Calculate P-Value: For many tests, especially hypothesis tests, you will also calculate a p-value. The p-value represents the probability of obtaining a test statistic as extreme as, or more extreme than, the one observed, assuming the null hypothesis is true. A smaller p-value suggests stronger evidence against the null hypothesis.\n",
    "\n",
    "Compare P-Value to Significance Level (Alpha): Compare the p-value to a predefined significance level (alpha), often set at 0.05. If the p-value is less than alpha, you reject the null hypothesis, indicating that the results are statistically significant. If the p-value is greater than alpha, you fail to reject the null hypothesis, suggesting no statistical significance.\n",
    "\n",
    "State the Conclusion: Based on the comparison to critical values and the p-value, state your conclusion in the context of your research question. For example:\n",
    "\n",
    "If p-value < alpha, \"We reject the null hypothesis in favor of the alternative hypothesis, indicating a statistically significant effect.\"\n",
    "If p-value > alpha, \"We fail to reject the null hypothesis, suggesting no statistically significant effect.\"\n",
    "Consider Effect Size: While not part of the statistical test, it's often important to consider the effect size (the magnitude of the difference or effect) in addition to the p-value. A small p-value indicates statistical significance, but a large effect size may be more practically meaningful.\n",
    "\n",
    "Contextualize the Result: Finally, consider the practical implications of your result and how it relates to your research question or problem. Statistical significance does not necessarily imply practical significance, and a small effect size may not be practically important."
   ]
  },
  {
   "cell_type": "code",
   "execution_count": null,
   "id": "874a3ba5",
   "metadata": {},
   "outputs": [],
   "source": []
  }
 ],
 "metadata": {
  "kernelspec": {
   "display_name": "Python 3 (ipykernel)",
   "language": "python",
   "name": "python3"
  },
  "language_info": {
   "codemirror_mode": {
    "name": "ipython",
    "version": 3
   },
   "file_extension": ".py",
   "mimetype": "text/x-python",
   "name": "python",
   "nbconvert_exporter": "python",
   "pygments_lexer": "ipython3",
   "version": "3.11.5"
  }
 },
 "nbformat": 4,
 "nbformat_minor": 5
}
